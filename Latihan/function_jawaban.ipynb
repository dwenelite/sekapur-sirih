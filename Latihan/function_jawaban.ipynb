{
 "cells": [
  {
   "cell_type": "markdown",
   "metadata": {},
   "source": [
    "# Jawaban Latihan Function\n",
    "\n",
    "Jawaban Soal 1: Buat Function untuk menentukan angka terbesar dari parameter bertipe list\n",
    "\n",
    "##### Input: 3, -6, 5\n",
    "\n",
    "##### Output: 5"
   ]
  },
  {
   "cell_type": "code",
   "execution_count": 9,
   "metadata": {},
   "outputs": [
    {
     "name": "stdout",
     "output_type": "stream",
     "text": [
      "5\n"
     ]
    }
   ],
   "source": [
    "def max(listNumbers):\n",
    "    max = listNumbers[0]\n",
    "    for x in listNumbers:\n",
    "        if(x > max):\n",
    "            max = x\n",
    "    return max\n",
    "listNumbers = [3, -6, 5]\n",
    "print(max(listNumbers))"
   ]
  },
  {
   "cell_type": "markdown",
   "metadata": {},
   "source": [
    "Jawaban Soal 2: Buat Function untuk menjumlahkan semua integer yang ada pada parameter bertipe list\n",
    "\n",
    "##### Input: 5, 4, 7, 3, 6 \n",
    "\n",
    "##### Output: 25"
   ]
  },
  {
   "cell_type": "code",
   "execution_count": 10,
   "metadata": {},
   "outputs": [
    {
     "name": "stdout",
     "output_type": "stream",
     "text": [
      "25\n"
     ]
    }
   ],
   "source": [
    "def sum(listNumbers):\n",
    "    result = 0\n",
    "    for x in listNumbers:\n",
    "        result+= x\n",
    "    return result\n",
    "listNumbers = [5, 4, 7, 3, 6]\n",
    "print(sum(listNumbers))"
   ]
  },
  {
   "cell_type": "markdown",
   "metadata": {},
   "source": [
    "Jawaban Soal 3: Buat Function untuk membalik urutan string\n",
    "\n",
    "##### Input: \"abcde321\"\n",
    "\n",
    "##### Output: \"123edcba\""
   ]
  },
  {
   "cell_type": "code",
   "execution_count": 11,
   "metadata": {},
   "outputs": [
    {
     "name": "stdout",
     "output_type": "stream",
     "text": [
      "123edcba\n"
     ]
    }
   ],
   "source": [
    "def reverse(stringKata):\n",
    "    result = ''\n",
    "    index = len(stringKata)\n",
    "    while index > 0:\n",
    "        result += stringKata[index - 1]\n",
    "        index = index - 1\n",
    "    return result\n",
    "print(reverse('abcde321'))"
   ]
  }
 ],
 "metadata": {
  "kernelspec": {
   "display_name": "Python 3",
   "language": "python",
   "name": "python3"
  },
  "language_info": {
   "codemirror_mode": {
    "name": "ipython",
    "version": 3
   },
   "file_extension": ".py",
   "mimetype": "text/x-python",
   "name": "python",
   "nbconvert_exporter": "python",
   "pygments_lexer": "ipython3",
   "version": "3.5.2"
  }
 },
 "nbformat": 4,
 "nbformat_minor": 2
}
